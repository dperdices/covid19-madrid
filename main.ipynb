{
 "cells": [
  {
   "cell_type": "code",
   "execution_count": 1,
   "metadata": {},
   "outputs": [],
   "source": [
    "from bqplot import pyplot as plt\n",
    "from bqplot import Lines, LinearScale, ColorScale, Tooltip, Scatter\n",
    "import ipywidgets as widgets\n",
    "import numpy as np\n",
    "import pandas as pd\n",
    "from ipywidgets import Output\n",
    "from IPython.display import display, clear_output"
   ]
  },
  {
   "cell_type": "code",
   "execution_count": 2,
   "metadata": {},
   "outputs": [],
   "source": [
    "!wget -nc https://datos.comunidad.madrid/catalogo/dataset/b3d55e40-8263-4c0b-827d-2bb23b5e7bab/resource/43708c23-2b77-48fd-9986-fa97691a2d59/download/covid19_tia_zonas_basicas_salud_s.csv 2> /dev/null"
   ]
  },
  {
   "cell_type": "code",
   "execution_count": 3,
   "metadata": {},
   "outputs": [],
   "source": [
    "df = pd.read_csv(\"covid19_tia_zonas_basicas_salud_s.csv\", sep=\";\", encoding='latin-1')\n",
    "df[\"date\"] = pd.to_datetime(df.fecha_informe)\n",
    "df.tasa_incidencia_acumulada_ultimos_14dias = pd.to_numeric(df.tasa_incidencia_acumulada_ultimos_14dias.str.replace(\",\", \".\"))"
   ]
  },
  {
   "cell_type": "code",
   "execution_count": 4,
   "metadata": {},
   "outputs": [
    {
     "data": {
      "application/vnd.jupyter.widget-view+json": {
       "model_id": "be0936c0b0b9406c97bc5160ea6a975a",
       "version_major": 2,
       "version_minor": 0
      },
      "text/plain": [
       "VBox(children=(Figure(axes=[Axis(scale=DateScale()), Axis(orientation='vertical', scale=LinearScale())], fig_m…"
      ]
     },
     "metadata": {},
     "output_type": "display_data"
    }
   ],
   "source": [
    "f = plt.figure(title=\"Incidencia\")\n",
    "zonas = np.unique(df.zona_basica_salud)\n",
    "\n",
    "#zones = np.unique(df.zona_basica_salud).tolist()\n",
    "zones = [\"Peñagrande\", \"Daroca\"]\n",
    "fdf = df[df.zona_basica_salud.isin(zones)]\n",
    "data = [(zbs, partdf) for zbs, partdf in fdf.groupby(\"zona_basica_salud\")]\n",
    "ZBSs=[e[0] for e in data]\n",
    "dfs = [e[1] for e in data]\n",
    "xs = [d.date for d in dfs]\n",
    "ys = [d.tasa_incidencia_acumulada_ultimos_14dias for d in dfs]\n",
    "names = [d.zona_basica_salud for d in dfs]\n",
    "x, y, names = np.stack(xs).reshape(-1), np.stack(ys).reshape(-1), np.stack(names).reshape(-1).tolist()\n",
    "\n",
    "\n",
    "\n",
    "p1 = plt.plot(xs, ys, labels=ZBSs)\n",
    "plt.legend()\n",
    "colors = [[p1.colors[i % len(p1.colors)] for _ in range(len(d))] for i, d in enumerate(xs)] \n",
    "colors = np.stack(colors).reshape(-1).tolist()\n",
    "\n",
    "p2 = plt.scatter(x=x,y=y, names=names, labels=names, display_names=False, colors=colors)\n",
    "p2.tooltip = Tooltip(fields=['name','x', 'y'], formats = ['',\"%d-%b-%y\",''], labels = ['ZBS','Fecha', 'Incidencia'], show_labels = True )\n",
    "p2.enable_hover = True\n",
    "w = widgets.SelectMultiple(\n",
    "    options=np.unique(df.zona_basica_salud).tolist(),\n",
    "    value=np.unique(df.zona_basica_salud).tolist(),\n",
    "    #rows=10,\n",
    "    disabled=False\n",
    ")\n",
    "\n",
    "def on_change(args):\n",
    "    global zones\n",
    "    if args[\"new\"] == True:\n",
    "        zones = zones + [args[\"owner\"].description]\n",
    "    else:\n",
    "        zones.remove(args[\"owner\"].description)\n",
    "    print(zones)\n",
    "\n",
    "    fdf = df[df.zona_basica_salud.isin(zones)]\n",
    "    data = [(zbs, partdf) for zbs, partdf in fdf.groupby(\"zona_basica_salud\")]\n",
    "    ZBSs=[e[0] for e in data]\n",
    "    dfs = [e[1] for e in data]\n",
    "    xs = [d.date for d in dfs]\n",
    "    ys = [d.tasa_incidencia_acumulada_ultimos_14dias for d in dfs]\n",
    "    names = [d.zona_basica_salud for d in dfs]\n",
    "    x, y, names = np.stack(xs).reshape(-1), np.stack(ys).reshape(-1), np.stack(names).reshape(-1).tolist()\n",
    "    \n",
    "    p1.x = xs\n",
    "    p1.y = ys\n",
    "    p1.labels = ZBSs\n",
    "    colors = [[p1.colors[i % len(p.colors)] for _ in range(len(d))] for i, d in enumerate(xs)] \n",
    "    colors = np.stack(colors).reshape(-1).tolist()\n",
    "    \n",
    "    p2.x = x\n",
    "    p2.y = y\n",
    "    p2.names = names\n",
    "    p2.labels = names\n",
    "    p2.colors = colors\n",
    "    \n",
    "ws = [widgets.Checkbox(value=zone in zones, description=zone) for zone in zonas]\n",
    "[w.observe(on_change, \"value\") for w in ws]\n",
    "widgets.VBox([f, *ws])\n"
   ]
  }
 ],
 "metadata": {
  "kernelspec": {
   "display_name": "Python 3",
   "language": "python",
   "name": "python3"
  },
  "language_info": {
   "codemirror_mode": {
    "name": "ipython",
    "version": 3
   },
   "file_extension": ".py",
   "mimetype": "text/x-python",
   "name": "python",
   "nbconvert_exporter": "python",
   "pygments_lexer": "ipython3",
   "version": "3.7.6"
  }
 },
 "nbformat": 4,
 "nbformat_minor": 4
}
