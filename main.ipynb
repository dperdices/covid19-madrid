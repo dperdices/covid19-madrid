{
 "cells": [
  {
   "cell_type": "code",
   "execution_count": 8,
   "metadata": {},
   "outputs": [],
   "source": [
    "from bqplot import pyplot as plt\n",
    "from bqplot import Lines, LinearScale, ColorScale, Tooltip, Scatter\n",
    "import ipywidgets as widgets\n",
    "import numpy as np\n",
    "import pandas as pd\n",
    "from ipywidgets import Output\n",
    "from IPython.display import display, clear_output"
   ]
  },
  {
   "cell_type": "code",
   "execution_count": 2,
   "metadata": {},
   "outputs": [],
   "source": [
    "!wget -nc https://datos.comunidad.madrid/catalogo/dataset/b3d55e40-8263-4c0b-827d-2bb23b5e7bab/resource/43708c23-2b77-48fd-9986-fa97691a2d59/download/covid19_tia_zonas_basicas_salud_s.csv 2> /dev/null"
   ]
  },
  {
   "cell_type": "code",
   "execution_count": 3,
   "metadata": {},
   "outputs": [],
   "source": [
    "df = pd.read_csv(\"covid19_tia_zonas_basicas_salud_s.csv\", sep=\";\", encoding='latin-1')\n",
    "df[\"date\"] = pd.to_datetime(df.fecha_informe)\n",
    "df.tasa_incidencia_acumulada_ultimos_14dias = pd.to_numeric(df.tasa_incidencia_acumulada_ultimos_14dias.str.replace(\",\", \".\"))"
   ]
  },
  {
   "cell_type": "code",
   "execution_count": 78,
   "metadata": {},
   "outputs": [
    {
     "name": "stdout",
     "output_type": "stream",
     "text": [
      "{'zona_basica_salud': 'Aranjuez', 'Incidencia esta semana': 1089.48, 'Incidencia semana anterior': 620.93, 'Variación': 75.46, 'color_var': 'yellow', 'variant': 'danger'}\n",
      "{'zona_basica_salud': 'Cadalso de los Vidrios', 'Incidencia esta semana': 1410.21, 'Incidencia semana anterior': 517.67, 'Variación': 172.41, 'color_var': 'red', 'variant': 'danger'}\n",
      "{'zona_basica_salud': 'Fuente el Saz', 'Incidencia esta semana': 1016.69, 'Incidencia semana anterior': 546.28, 'Variación': 86.11, 'color_var': 'yellow', 'variant': 'danger'}\n",
      "{'zona_basica_salud': 'Las Olivas', 'Incidencia esta semana': 1112.46, 'Incidencia semana anterior': 600.98, 'Variación': 85.11, 'color_var': 'yellow', 'variant': 'danger'}\n",
      "{'zona_basica_salud': 'Los Alperchines', 'Incidencia esta semana': 1128.66, 'Incidencia semana anterior': 835.1, 'Variación': 35.15, 'color_var': 'green', 'variant': 'danger'}\n",
      "{'zona_basica_salud': 'Villarejo de Salvanés', 'Incidencia esta semana': 1851.85, 'Incidencia semana anterior': 1258.13, 'Variación': 47.19, 'color_var': 'green', 'variant': 'danger'}\n"
     ]
    },
    {
     "data": {
      "application/vnd.jupyter.widget-view+json": {
       "model_id": "d4fc0e9c2dd04b8eb76c100bd7102dde",
       "version_major": 2,
       "version_minor": 0
      },
      "text/plain": [
       "MyDataTable(headers=[{'text': 'Zona Básica de Salud', 'sortable': False, 'value': 'zona_basica_salud'}, {'text…"
      ]
     },
     "metadata": {},
     "output_type": "display_data"
    }
   ],
   "source": [
    "d = pd.DataFrame([df.groupby(\"zona_basica_salud\").nth(1).tasa_incidencia_acumulada_ultimos_14dias, df.groupby(\"zona_basica_salud\").nth(2).tasa_incidencia_acumulada_ultimos_14dias])\n",
    "d = d.T\n",
    "d.columns = [\"Incidencia esta semana\", \"Incidencia semana anterior\"]\n",
    "d[\"Variación\"] = (d[\"Incidencia esta semana\"] - d[\"Incidencia semana anterior\"])*100 / d[\"Incidencia semana anterior\"]\n",
    "d[\"Variación\"] = d[\"Variación\"].apply(lambda e: round(e, 2))\n",
    "d[\"color_var\"] = d[\"Variación\"].apply(lambda e: \"red\" if e>100 else \"yellow\" if e > 50 else \"green\")\n",
    "d = d.reset_index()\n",
    "import ipyvuetify as v\n",
    "from traitlets import (Unicode, List)\n",
    "import pandas as pd\n",
    "\n",
    "class MyDataTable(v.VuetifyTemplate):\n",
    "    headers = List([\n",
    "        {'text': 'Zona Básica de Salud', 'sortable':  False, 'value': 'zona_basica_salud'},\n",
    "        {'text': 'Incidencia esta semana', 'value': \"Incidencia esta semana\", 'align': 'right'},\n",
    "        {'text': 'Incidencia semana anterior', 'value': \"Incidencia semana anterior\", 'align': 'right'},\n",
    "        {'text': 'Variación', 'value': \"Variación\", 'align': 'right'}\n",
    "    ]).tag(sync=True)\n",
    "    d1 = []\n",
    "    for a in (d.to_dict(orient='records')):\n",
    "        if a[\"Incidencia esta semana\"] > 1000:\n",
    "            a[\"variant\"] = \"danger\"\n",
    "        d1.append(a)\n",
    "    items = List(d1).tag(sync=True)\n",
    "    template = Unicode('''\n",
    "        <v-data-table\n",
    "            :headers=\"headers\"\n",
    "            :items=\"items\"\n",
    "            class=\"elevation-1\"\n",
    "        >\n",
    "            <template v-slot:items=\"props\">\n",
    "                <td>{{ props.item[\"zona_basica_salud\"] }}</td>\n",
    "                <td class=\"text-xs-right\">{{ props.item[\"Incidencia esta semana\"] }}</td>\n",
    "                <td class=\"text-xs-right\">{{ props.item[\"Incidencia semana anterior\"] }}</td>\n",
    "                <td class=\"text-xs-right\">{{ props.item[\"Variación\"]}}</td>\n",
    "            </template>\n",
    "        </v-data-table>\n",
    "        <style scoped>\n",
    "        .green{\n",
    "          background-color: green\n",
    "        }\n",
    "        .yellow {\n",
    "           background-color: yellow\n",
    "        }\n",
    "        .red {\n",
    "           background-color: red\n",
    "        }\n",
    "        </style>\n",
    "    ''').tag(sync=True)\n",
    "\n",
    "MyDataTable()"
   ]
  },
  {
   "cell_type": "code",
   "execution_count": 6,
   "metadata": {},
   "outputs": [
    {
     "data": {
      "application/vnd.jupyter.widget-view+json": {
       "model_id": "8232cbbbac9b4d4b83ddbef512c8f740",
       "version_major": 2,
       "version_minor": 0
      },
      "text/plain": [
       "VBox(children=(Figure(axes=[Axis(scale=DateScale()), Axis(orientation='vertical', scale=LinearScale())], fig_m…"
      ]
     },
     "metadata": {},
     "output_type": "display_data"
    }
   ],
   "source": [
    "f = plt.figure(title=\"Incidencia\")\n",
    "zonas = np.unique(df.zona_basica_salud)\n",
    "\n",
    "#zones = np.unique(df.zona_basica_salud).tolist()\n",
    "zones = [\"Peñagrande\", \"Daroca\"]\n",
    "fdf = df[df.zona_basica_salud.isin(zones)]\n",
    "data = [(zbs, partdf) for zbs, partdf in fdf.groupby(\"zona_basica_salud\")]\n",
    "ZBSs=[e[0] for e in data]\n",
    "dfs = [e[1] for e in data]\n",
    "xs = [d.date for d in dfs]\n",
    "ys = [d.tasa_incidencia_acumulada_ultimos_14dias for d in dfs]\n",
    "names = [d.zona_basica_salud for d in dfs]\n",
    "x, y, names = np.stack(xs).reshape(-1), np.stack(ys).reshape(-1), np.stack(names).reshape(-1).tolist()\n",
    "\n",
    "\n",
    "\n",
    "p1 = plt.plot(xs, ys, labels=ZBSs)\n",
    "plt.legend()\n",
    "colors = [[p1.colors[i % len(p1.colors)] for _ in range(len(d))] for i, d in enumerate(xs)] \n",
    "colors = np.stack(colors).reshape(-1).tolist()\n",
    "\n",
    "p2 = plt.scatter(x=x,y=y, names=names, labels=names, display_names=False, colors=colors)\n",
    "p2.tooltip = Tooltip(fields=['name','x', 'y'], formats = ['',\"%d-%b-%y\",''], labels = ['ZBS','Fecha', 'Incidencia'], show_labels = True )\n",
    "p2.enable_hover = True\n",
    "\n",
    "\n",
    "def on_change(args):\n",
    "    global zones\n",
    "    if args[\"new\"] == True:\n",
    "        zones = zones + [args[\"owner\"].description]\n",
    "    else:\n",
    "        zones.remove(args[\"owner\"].description)\n",
    "    print(zones)\n",
    "\n",
    "    fdf = df[df.zona_basica_salud.isin(zones)]\n",
    "    data = [(zbs, partdf) for zbs, partdf in fdf.groupby(\"zona_basica_salud\")]\n",
    "    ZBSs=[e[0] for e in data]\n",
    "    dfs = [e[1] for e in data]\n",
    "    xs = [d.date for d in dfs]\n",
    "    ys = [d.tasa_incidencia_acumulada_ultimos_14dias for d in dfs]\n",
    "    names = [d.zona_basica_salud for d in dfs]\n",
    "    x, y, names = np.stack(xs).reshape(-1), np.stack(ys).reshape(-1), np.stack(names).reshape(-1).tolist()\n",
    "    \n",
    "    p1.x = xs\n",
    "    p1.y = ys\n",
    "    p1.labels = ZBSs\n",
    "    colors = [[p1.colors[i % len(p1.colors)] for _ in range(len(d))] for i, d in enumerate(xs)] \n",
    "    colors = np.stack(colors).reshape(-1).tolist()\n",
    "    \n",
    "    p2.x = x\n",
    "    p2.y = y\n",
    "    p2.names = names\n",
    "    p2.labels = names\n",
    "    p2.colors = colors\n",
    "    p2.tooltip = Tooltip(fields=['name','x', 'y'], formats = ['',\"%d-%b-%y\",''], labels = ['ZBS','Fecha', 'Incidencia'], show_labels = True )\n",
    "    p2.enable_hover = True\n",
    "ws = [widgets.Checkbox(value=zone in zones, description=zone) for zone in zonas]\n",
    "[w.observe(on_change, \"value\") for w in ws]\n",
    "widgets.VBox([f, *ws])\n"
   ]
  }
 ],
 "metadata": {
  "kernelspec": {
   "display_name": "Python 3",
   "language": "python",
   "name": "python3"
  },
  "language_info": {
   "codemirror_mode": {
    "name": "ipython",
    "version": 3
   },
   "file_extension": ".py",
   "mimetype": "text/x-python",
   "name": "python",
   "nbconvert_exporter": "python",
   "pygments_lexer": "ipython3",
   "version": "3.7.6"
  }
 },
 "nbformat": 4,
 "nbformat_minor": 4
}
